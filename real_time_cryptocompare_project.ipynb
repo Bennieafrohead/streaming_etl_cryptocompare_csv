{
  "nbformat": 4,
  "nbformat_minor": 0,
  "metadata": {
    "colab": {
      "provenance": [],
      "authorship_tag": "ABX9TyMfCR1GH/MnL6+3l/KrK/km",
      "include_colab_link": true
    },
    "kernelspec": {
      "name": "python3",
      "display_name": "Python 3"
    },
    "language_info": {
      "name": "python"
    }
  },
  "cells": [
    {
      "cell_type": "markdown",
      "metadata": {
        "id": "view-in-github",
        "colab_type": "text"
      },
      "source": [
        "<a href=\"https://colab.research.google.com/github/Bennieafrohead/Bennieafrohead/blob/main/real_time_cryptocompare_project.ipynb\" target=\"_parent\"><img src=\"https://colab.research.google.com/assets/colab-badge.svg\" alt=\"Open In Colab\"/></a>"
      ]
    },
    {
      "cell_type": "code",
      "execution_count": 6,
      "metadata": {
        "colab": {
          "base_uri": "https://localhost:8080/"
        },
        "id": "HroSshPutkKk",
        "outputId": "2ccbcaa4-816e-43f5-a066-64053c07fa84"
      },
      "outputs": [
        {
          "output_type": "stream",
          "name": "stdout",
          "text": [
            "Looking in indexes: https://pypi.org/simple, https://us-python.pkg.dev/colab-wheels/public/simple/\n",
            "Collecting schedule\n",
            "  Downloading schedule-1.1.0-py2.py3-none-any.whl (10 kB)\n",
            "Installing collected packages: schedule\n",
            "Successfully installed schedule-1.1.0\n"
          ]
        }
      ],
      "source": [
        "! pip3 install schedule\n"
      ]
    },
    {
      "cell_type": "code",
      "source": [
        "import pandas\n",
        "import time\n",
        "import schedule \n",
        "import json\n",
        "import requests"
      ],
      "metadata": {
        "id": "0OTqGqLftpVL"
      },
      "execution_count": 7,
      "outputs": []
    },
    {
      "cell_type": "code",
      "source": [
        "#creating a user defined functions to do get a data for every #0 seconds it it is appended to a file, it states # paramaeters below \n",
        "def pull_currency_data(api_key, site_url, file_name):\n",
        "    \"\"\"\n",
        "    :param site_url: URL to which requests get should hit\n",
        "    :param apikey: Key from your account\n",
        "    :param file_name: location and file name where output should be saved and appended\n",
        "    \"\"\"\n",
        "    global data\n",
        "    data = requests.get(url=site_url, apikey=key)\n",
        "    e = open(file_name, \"a\")\n",
        "    currency = json.loads(data.content)\n",
        "    output = data.headers['Date'] + '|' + '1' + '|' + str(currency['USD']) + '|' + str(currency['ETH']) + '|' + \\\n",
        "             str(currency['EUR']) + '\\n'\n",
        "    file.write(output)\n",
        "    file.close()"
      ],
      "metadata": {
        "id": "OoIFiYoisya-"
      },
      "execution_count": 8,
      "outputs": []
    },
    {
      "cell_type": "code",
      "source": [
        "key = '163349ccb38e189f0fa82dfd623d7090634cf4432866c07e711d02067feb1d4c'\n",
        "url = 'https://min-api.cryptocompare.com/data/price?fsym=BTC&tsyms=USD,ETH,EUR&api_key=163349ccb38e189f0fa82dfd623d7090634cf4432866c07e711d02067feb1d4c'\n",
        "file_name = 'C:/Users/HP/Documents/New folder/ETL_cryptocompare.csv'\n",
        "schedule.every(30).seconds.do(pull_currency_data, url, key, file_name)\n",
        "#this is schedule to pull data every 30 seconds from the crypto_compare_api and saved into the dot_csv folder below "
      ],
      "metadata": {
        "colab": {
          "base_uri": "https://localhost:8080/"
        },
        "id": "ebxTFqEtyG38",
        "outputId": "1fcf4d04-bd9a-4f61-e35d-6b5f31fa6e64"
      },
      "execution_count": 11,
      "outputs": [
        {
          "output_type": "execute_result",
          "data": {
            "text/plain": [
              "Every 30 seconds do pull_currency_data('https://min-api.cryptocompare.com/data/price?fsym=BTC&tsyms=USD,ETH,EUR&api_key=163349ccb38e189f0fa82dfd623d7090634cf4432866c07e711d02067feb1d4c', '163349ccb38e189f0fa82dfd623d7090634cf4432866c07e711d02067feb1d4c', 'C:/Users/HP/Documents/New folder/ETL_cryptocompare.csv') (last run: [never], next run: 2022-10-12 06:06:15)"
            ]
          },
          "metadata": {},
          "execution_count": 11
        }
      ]
    },
    {
      "cell_type": "code",
      "source": [
        "schedule.every(30).seconds.do(pull_currency_data, url, key, file_name)\n"
      ],
      "metadata": {
        "colab": {
          "base_uri": "https://localhost:8080/"
        },
        "id": "4KW4yiv_zjU5",
        "outputId": "c3950aa0-0681-4b5a-8e82-36000acece98"
      },
      "execution_count": 12,
      "outputs": [
        {
          "output_type": "execute_result",
          "data": {
            "text/plain": [
              "Every 30 seconds do pull_currency_data('https://min-api.cryptocompare.com/data/price?fsym=BTC&tsyms=USD,ETH,EUR&api_key=163349ccb38e189f0fa82dfd623d7090634cf4432866c07e711d02067feb1d4c', '163349ccb38e189f0fa82dfd623d7090634cf4432866c07e711d02067feb1d4c', 'C:/Users/HP/Documents/New folder/ETL_cryptocompare.csv') (last run: [never], next run: 2022-10-12 06:08:24)"
            ]
          },
          "metadata": {},
          "execution_count": 12
        }
      ]
    },
    {
      "cell_type": "code",
      "source": [],
      "metadata": {
        "id": "B_1fwUOYzp8v"
      },
      "execution_count": null,
      "outputs": []
    }
  ]
}